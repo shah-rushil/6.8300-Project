{
 "cells": [
  {
   "cell_type": "code",
   "execution_count": 1,
   "id": "11186020",
   "metadata": {},
   "outputs": [],
   "source": [
    "from pytubefix import YouTube\n",
    "import json"
   ]
  },
  {
   "cell_type": "code",
   "execution_count": 4,
   "id": "3cf47520",
   "metadata": {},
   "outputs": [],
   "source": [
    "with open('MUSIC21_solo_videos.json', 'r', encoding='utf-8') as file:\n",
    "    music_data = json.load(file)"
   ]
  },
  {
   "cell_type": "code",
   "execution_count": 5,
   "id": "191fdc1b",
   "metadata": {},
   "outputs": [],
   "source": [
    "def download_youtube_video(link, output_path):\n",
    "    try:\n",
    "        yt = YouTube(link)\n",
    "        ys = yt.streams.get_highest_resolution()\n",
    "        ys.download(output_path)\n",
    "    except:\n",
    "        pass"
   ]
  },
  {
   "cell_type": "code",
   "execution_count": 6,
   "id": "9b174335",
   "metadata": {},
   "outputs": [
    {
     "name": "stdout",
     "output_type": "stream",
     "text": [
      "bagpipe\n",
      "clarinet\n",
      "flute\n",
      "drum\n",
      "acoustic_guitar\n",
      "ukulele\n"
     ]
    },
    {
     "name": "stderr",
     "output_type": "stream",
     "text": [
      "ANDROID_VR client returned: This video is not available\n",
      "Switching to client: TV\n"
     ]
    },
    {
     "name": "stdout",
     "output_type": "stream",
     "text": [
      "accordion\n"
     ]
    },
    {
     "name": "stderr",
     "output_type": "stream",
     "text": [
      "ANDROID_VR client returned: This video is not available\n",
      "Switching to client: TV\n",
      "ANDROID_VR client returned: This video is not available\n",
      "Switching to client: TV\n"
     ]
    },
    {
     "name": "stdout",
     "output_type": "stream",
     "text": [
      "bassoon\n",
      "guzheng\n",
      "xylophone\n",
      "erhu\n",
      "tuba\n"
     ]
    },
    {
     "name": "stderr",
     "output_type": "stream",
     "text": [
      "ANDROID_VR client returned: This video is not available\n",
      "Switching to client: TV\n"
     ]
    },
    {
     "name": "stdout",
     "output_type": "stream",
     "text": [
      "congas\n"
     ]
    },
    {
     "name": "stderr",
     "output_type": "stream",
     "text": [
      "Unknown Video Error\n",
      "Video ID: 59GKBsOJSNs\n",
      "Status: ERROR\n",
      "Reason: This video is no longer available due to a copyright claim by Congahead LLC\n",
      "Developer Message: Unknown reason type for Error status\n",
      "Please open an issue at https://github.com/JuanBindez/pytubefix/issues and provide the above log output.\n"
     ]
    },
    {
     "name": "stdout",
     "output_type": "stream",
     "text": [
      "saxophone\n",
      "cello\n"
     ]
    },
    {
     "name": "stderr",
     "output_type": "stream",
     "text": [
      "ANDROID_VR client returned: This video is not available\n",
      "Switching to client: TV\n",
      "ANDROID_VR client returned: This video is not available\n",
      "Switching to client: TV\n"
     ]
    },
    {
     "name": "stdout",
     "output_type": "stream",
     "text": [
      "violin\n"
     ]
    },
    {
     "name": "stderr",
     "output_type": "stream",
     "text": [
      "ANDROID_VR client returned: This video is not available\n",
      "Switching to client: TV\n"
     ]
    },
    {
     "name": "stdout",
     "output_type": "stream",
     "text": [
      "electric_bass\n",
      "piano\n"
     ]
    },
    {
     "name": "stderr",
     "output_type": "stream",
     "text": [
      "Unknown Video Error\n",
      "Video ID: pDS4o2C-eUQ\n",
      "Status: ERROR\n",
      "Reason: This video has been removed for violating YouTube's Terms of Service\n",
      "Developer Message: Unknown reason type for Error status\n",
      "Please open an issue at https://github.com/JuanBindez/pytubefix/issues and provide the above log output.\n"
     ]
    },
    {
     "name": "stdout",
     "output_type": "stream",
     "text": [
      "banjo\n"
     ]
    },
    {
     "name": "stderr",
     "output_type": "stream",
     "text": [
      "Unknown Video Error\n",
      "Video ID: AJOIqmlI65Y\n",
      "Status: ERROR\n",
      "Reason: This video is no longer available due to a copyright claim by Albert Ihde\n",
      "Developer Message: Unknown reason type for Error status\n",
      "Please open an issue at https://github.com/JuanBindez/pytubefix/issues and provide the above log output.\n"
     ]
    },
    {
     "name": "stdout",
     "output_type": "stream",
     "text": [
      "trumpet\n",
      "pipa\n"
     ]
    }
   ],
   "source": [
    "for instrument_name, video_list in music_data[\"videos\"].items():\n",
    "    print(instrument_name)\n",
    "    path = f\"data/{instrument_name}\"\n",
    "    for video in video_list:\n",
    "        download_youtube_video(f\"https://www.youtube.com/watch?v={video}\", path)"
   ]
  }
 ],
 "metadata": {
  "kernelspec": {
   "display_name": "Python 3",
   "language": "python",
   "name": "python3"
  },
  "language_info": {
   "codemirror_mode": {
    "name": "ipython",
    "version": 3
   },
   "file_extension": ".py",
   "mimetype": "text/x-python",
   "name": "python",
   "nbconvert_exporter": "python",
   "pygments_lexer": "ipython3",
   "version": "3.12.1"
  }
 },
 "nbformat": 4,
 "nbformat_minor": 5
}
