{
 "cells": [
  {
   "cell_type": "code",
   "execution_count": null,
   "id": "657ecbc8",
   "metadata": {},
   "outputs": [
    {
     "name": "stdout",
     "output_type": "stream",
     "text": [
      "Collecting moviepy\n",
      "  Using cached moviepy-2.1.2-py3-none-any.whl.metadata (6.9 kB)\n",
      "Requirement already satisfied: decorator<6.0,>=4.0.2 in ./.venv/lib/python3.12/site-packages (from moviepy) (5.2.1)\n",
      "Collecting imageio<3.0,>=2.5 (from moviepy)\n",
      "  Using cached imageio-2.37.0-py3-none-any.whl.metadata (5.2 kB)\n",
      "Collecting imageio_ffmpeg>=0.2.0 (from moviepy)\n",
      "  Using cached imageio_ffmpeg-0.6.0-py3-none-macosx_11_0_arm64.whl.metadata (1.5 kB)\n",
      "Requirement already satisfied: numpy>=1.25.0 in ./.venv/lib/python3.12/site-packages (from moviepy) (2.2.5)\n",
      "Collecting proglog<=1.0.0 (from moviepy)\n",
      "  Using cached proglog-0.1.11-py3-none-any.whl.metadata (794 bytes)\n",
      "Collecting python-dotenv>=0.10 (from moviepy)\n",
      "  Using cached python_dotenv-1.1.0-py3-none-any.whl.metadata (24 kB)\n",
      "Collecting pillow<11.0,>=9.2.0 (from moviepy)\n",
      "  Downloading pillow-10.4.0-cp312-cp312-macosx_11_0_arm64.whl.metadata (9.2 kB)\n",
      "Collecting tqdm (from proglog<=1.0.0->moviepy)\n",
      "  Using cached tqdm-4.67.1-py3-none-any.whl.metadata (57 kB)\n",
      "Using cached moviepy-2.1.2-py3-none-any.whl (126 kB)\n",
      "Using cached imageio-2.37.0-py3-none-any.whl (315 kB)\n",
      "Using cached imageio_ffmpeg-0.6.0-py3-none-macosx_11_0_arm64.whl (21.1 MB)\n",
      "Downloading pillow-10.4.0-cp312-cp312-macosx_11_0_arm64.whl (3.4 MB)\n",
      "\u001b[2K   \u001b[90m━━━━━━━━━━━━━━━━━━━━━━━━━━━━━━━━━━━━━━━━\u001b[0m \u001b[32m3.4/3.4 MB\u001b[0m \u001b[31m8.0 MB/s\u001b[0m eta \u001b[36m0:00:00\u001b[0ma \u001b[36m0:00:01\u001b[0m\n",
      "\u001b[?25hUsing cached proglog-0.1.11-py3-none-any.whl (7.8 kB)\n",
      "Using cached python_dotenv-1.1.0-py3-none-any.whl (20 kB)\n",
      "Using cached tqdm-4.67.1-py3-none-any.whl (78 kB)\n",
      "Installing collected packages: tqdm, python-dotenv, pillow, imageio_ffmpeg, proglog, imageio, moviepy\n",
      "  Attempting uninstall: pillow\n",
      "    Found existing installation: pillow 11.2.1\n",
      "    Uninstalling pillow-11.2.1:\n",
      "      Successfully uninstalled pillow-11.2.1\n",
      "Successfully installed imageio-2.37.0 imageio_ffmpeg-0.6.0 moviepy-2.1.2 pillow-10.4.0 proglog-0.1.11 python-dotenv-1.1.0 tqdm-4.67.1\n",
      "Note: you may need to restart the kernel to use updated packages.\n"
     ]
    }
   ],
   "source": [
    "%pip install moviepy"
   ]
  },
  {
   "cell_type": "code",
   "execution_count": 27,
   "id": "2d69ba0a",
   "metadata": {},
   "outputs": [],
   "source": [
    "from moviepy.video.io.VideoFileClip import VideoFileClip\n",
    "from moviepy.video.io.ffmpeg_tools  import ffmpeg_extract_subclip\n",
    "\n",
    "def extract_middle_5_seconds(input_path: str, output_path: str):\n",
    "    # 1) Load the clip\n",
    "    clip = VideoFileClip(input_path)\n",
    "    \n",
    "    # 2) Get total duration in seconds\n",
    "    total_duration = clip.duration\n",
    "    \n",
    "    # 3) Compute start & end for the middle 5 seconds\n",
    "    #    If the clip is shorter than 5 s, we'll just take from 0 to its full length.\n",
    "    if total_duration <= 5:\n",
    "        start_time = 0\n",
    "        end_time = total_duration\n",
    "    else:\n",
    "        start_time = (total_duration - 5) / 2\n",
    "        end_time = start_time + 5\n",
    "    \n",
    "    # ← use subclipped(), not subclip()\n",
    "    middle = clip.subclipped(start_time, end_time)\n",
    "    middle.write_videofile(\n",
    "        output_path,\n",
    "        codec=\"libx264\",\n",
    "        audio_codec=\"aac\",\n",
    "        temp_audiofile=\"temp-audio.m4a\",\n",
    "        remove_temp=True\n",
    "    )\n",
    "\n",
    "    clip.close()\n",
    "    middle.close()"
   ]
  },
  {
   "cell_type": "code",
   "execution_count": 28,
   "id": "1c934eb4",
   "metadata": {},
   "outputs": [
    {
     "ename": "FileExistsError",
     "evalue": "[Errno 17] File exists: 'clipped_data'",
     "output_type": "error",
     "traceback": [
      "\u001b[31m---------------------------------------------------------------------------\u001b[39m",
      "\u001b[31mFileExistsError\u001b[39m                           Traceback (most recent call last)",
      "\u001b[36mCell\u001b[39m\u001b[36m \u001b[39m\u001b[32mIn[28]\u001b[39m\u001b[32m, line 8\u001b[39m\n\u001b[32m      5\u001b[39m     data = json.load(file)\n\u001b[32m      7\u001b[39m videos = data[\u001b[33m\"\u001b[39m\u001b[33mvideos\u001b[39m\u001b[33m\"\u001b[39m]\n\u001b[32m----> \u001b[39m\u001b[32m8\u001b[39m \u001b[43mos\u001b[49m\u001b[43m.\u001b[49m\u001b[43mmkdir\u001b[49m\u001b[43m(\u001b[49m\u001b[33;43m\"\u001b[39;49m\u001b[33;43mclipped_data\u001b[39;49m\u001b[33;43m\"\u001b[39;49m\u001b[43m)\u001b[49m\n\u001b[32m      9\u001b[39m \u001b[38;5;28;01mfor\u001b[39;00m instrument \u001b[38;5;129;01min\u001b[39;00m os.listdir(\u001b[33m\"\u001b[39m\u001b[33mdata\u001b[39m\u001b[33m\"\u001b[39m):\n\u001b[32m     10\u001b[39m     \u001b[38;5;28;01mif\u001b[39;00m instrument != \u001b[33m\"\u001b[39m\u001b[33m.DS_Store\u001b[39m\u001b[33m\"\u001b[39m:\n",
      "\u001b[31mFileExistsError\u001b[39m: [Errno 17] File exists: 'clipped_data'"
     ]
    }
   ],
   "source": [
    "import json\n",
    "import os\n",
    "\n",
    "with open('MUSIC21_solo_videos.json', 'r') as file:\n",
    "    data = json.load(file)\n",
    "    \n",
    "videos = data[\"videos\"]\n",
    "os.mkdir(\"clipped_data\")\n",
    "for instrument in os.listdir(\"data\"):\n",
    "    if instrument != \".DS_Store\":\n",
    "        os.mkdir(\"clipped_data/\" + instrument)\n",
    "        for file_name in os.listdir(\"data/\"+instrument):\n",
    "            if file_name[-1] == \"3\":\n",
    "                continue\n",
    "            try:\n",
    "                extract_middle_5_seconds(\n",
    "                    \"data/\" + instrument+ \"/\" + file_name,       # your source file\n",
    "                    \"clipped_data/\" + instrument+ \"/\" + file_name    # output filename\n",
    "                )   \n",
    "            except:\n",
    "                print(\"Error reading file \", file_name, \" for \", instrument)\n"
   ]
  }
 ],
 "metadata": {
  "kernelspec": {
   "display_name": ".venv",
   "language": "python",
   "name": "python3"
  },
  "language_info": {
   "codemirror_mode": {
    "name": "ipython",
    "version": 3
   },
   "file_extension": ".py",
   "mimetype": "text/x-python",
   "name": "python",
   "nbconvert_exporter": "python",
   "pygments_lexer": "ipython3",
   "version": "3.12.8"
  }
 },
 "nbformat": 4,
 "nbformat_minor": 5
}
