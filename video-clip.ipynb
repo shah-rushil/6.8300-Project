{
 "cells": [
  {
   "cell_type": "code",
   "execution_count": null,
   "id": "657ecbc8",
   "metadata": {},
   "outputs": [],
   "source": [
    "%pip install moviepy"
   ]
  },
  {
   "cell_type": "code",
   "execution_count": null,
   "id": "2d69ba0a",
   "metadata": {},
   "outputs": [],
   "source": [
    "from moviepy.video.io.VideoFileClip import VideoFileClip\n",
    "from moviepy.video.io.ffmpeg_tools  import ffmpeg_extract_subclip\n",
    "\n",
    "def extract_middle_5_seconds(input_path: str, output_path: str):\n",
    "    # 1) Load the clip\n",
    "    clip = VideoFileClip(input_path)\n",
    "    \n",
    "    # 2) Get total duration in seconds\n",
    "    total_duration = clip.duration\n",
    "    \n",
    "    # 3) Compute start & end for the middle 5 seconds\n",
    "    #    If the clip is shorter than 5 s, we'll just take from 0 to its full length.\n",
    "    if total_duration <= 5:\n",
    "        start_time = 0\n",
    "        end_time = total_duration\n",
    "    else:\n",
    "        start_time = (total_duration - 5) / 2\n",
    "        end_time = start_time + 5\n",
    "    \n",
    "    # ← use subclipped(), not subclip()\n",
    "    middle = clip.subclipped(start_time, end_time)\n",
    "    middle.write_videofile(\n",
    "        output_path,\n",
    "        codec=\"libx264\",\n",
    "        audio_codec=\"aac\",\n",
    "        temp_audiofile=\"temp-audio.m4a\",\n",
    "        remove_temp=True\n",
    "    )\n",
    "\n",
    "    clip.close()\n",
    "    middle.close()"
   ]
  },
  {
   "cell_type": "code",
   "execution_count": null,
   "id": "1c934eb4",
   "metadata": {},
   "outputs": [],
   "source": [
    "import json\n",
    "import os\n",
    "\n",
    "with open('MUSIC21_solo_videos.json', 'r') as file:\n",
    "    data = json.load(file)\n",
    "    \n",
    "videos = data[\"videos\"]\n",
    "os.mkdir(\"clipped_data\")\n",
    "for instrument in os.listdir(\"data\"):\n",
    "    if instrument != \".DS_Store\":\n",
    "        os.mkdir(\"clipped_data/\" + instrument)\n",
    "        for file_name in os.listdir(\"data/\"+instrument):\n",
    "            if file_name[-1] == \"3\":\n",
    "                continue\n",
    "            try:\n",
    "                extract_middle_5_seconds(\n",
    "                    \"data/\" + instrument+ \"/\" + file_name,       # your source file\n",
    "                    \"clipped_data/\" + instrument+ \"/\" + file_name    # output filename\n",
    "                )   \n",
    "            except:\n",
    "                print(\"Error reading file \", file_name, \" for \", instrument)\n"
   ]
  }
 ],
 "metadata": {
  "kernelspec": {
   "display_name": ".venv",
   "language": "python",
   "name": "python3"
  },
  "language_info": {
   "codemirror_mode": {
    "name": "ipython",
    "version": 3
   },
   "file_extension": ".py",
   "mimetype": "text/x-python",
   "name": "python",
   "nbconvert_exporter": "python",
   "pygments_lexer": "ipython3",
   "version": "3.12.8"
  }
 },
 "nbformat": 4,
 "nbformat_minor": 5
}
