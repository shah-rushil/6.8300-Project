{
  "cells": [
    {
      "cell_type": "code",
      "execution_count": null,
      "id": "4Sb8w3dtwain",
      "metadata": {
        "colab": {
          "base_uri": "https://localhost:8080/"
        },
        "id": "4Sb8w3dtwain",
        "outputId": "6e30af26-bb80-48a9-c216-c1fbc6cda14f"
      },
      "outputs": [],
      "source": [
        "!pip install muda\n",
        "!pip install jams\n",
        "!sudo apt-get install sox"
      ]
    },
    {
      "cell_type": "code",
      "execution_count": null,
      "id": "FO6FaIV7wJ4_",
      "metadata": {
        "id": "FO6FaIV7wJ4_"
      },
      "outputs": [],
      "source": [
        "# Edit file in /usr/local/lib/python3.11/dist-packages/jams/schema.py  to use np.float_ = np.float64\n",
        "import os\n",
        "import librosa\n",
        "import jams\n",
        "import muda"
      ]
    },
    {
      "cell_type": "code",
      "execution_count": null,
      "id": "DIKmSnLfwhVv",
      "metadata": {
        "colab": {
          "base_uri": "https://localhost:8080/"
        },
        "id": "DIKmSnLfwhVv",
        "outputId": "64c771e4-634d-4372-914b-d490add6c992"
      },
      "outputs": [],
      "source": [
        "from google.colab import drive\n",
        "drive.mount('/content/drive')"
      ]
    },
    {
      "cell_type": "code",
      "execution_count": null,
      "id": "031e409b",
      "metadata": {
        "id": "031e409b"
      },
      "outputs": [],
      "source": [
        "input_root = \"/content/drive/MyDrive/clipped_data\"\n",
        "output_root = \"/content/drive/MyDrive/augmented_data/drc\"\n",
        "\n",
        "# Initialize the DRC augmenter once (outside the loop)\n",
        "drc = muda.deformers.DynamicRangeCompression(preset=\"music standard\")\n",
        "\n",
        "for subdir, _, files in os.walk(input_root):\n",
        "    for file in files:\n",
        "        if file.endswith('.wav'):\n",
        "            input_path = os.path.join(subdir, file)\n",
        "            rel_path = os.path.relpath(subdir, input_root)\n",
        "            output_dir = os.path.join(output_root, rel_path)\n",
        "            os.makedirs(output_dir, exist_ok=True)\n",
        "            output_path = os.path.join(output_dir, file)\n",
        "\n",
        "            # === Load audio ===\n",
        "            y, sr = librosa.load(input_path, sr=None)\n",
        "\n",
        "            # Create an empty JAMS object (needed by muda)\n",
        "            jam = jams.JAMS()\n",
        "            jam.file_metadata.duration = librosa.get_duration(y=y, sr=sr)\n",
        "            jam = muda.jam_pack(jam, _audio=dict(y=y, sr=sr))\n",
        "\n",
        "            # === Apply DRC ===\n",
        "            for _, jam_out in enumerate(drc.transform(jam)):\n",
        "                muda.save(output_path, output_path.replace(\".wav\", \".jams\"), jam_out)"
      ]
    },
    {
      "cell_type": "code",
      "execution_count": null,
      "id": "IFSMuzipHmMX",
      "metadata": {
        "id": "IFSMuzipHmMX"
      },
      "outputs": [],
      "source": [
        "# will need to edit more library functions to accomodate updated librosa\n",
        "\n",
        "input_root = \"/content/drive/MyDrive/clipped_data\"\n",
        "output_root = \"/content/drive/MyDrive/augmented_data/bg_noise\"\n",
        "background_noise = \"quiet_clapping.wav\"\n",
        "\n",
        "# Initialize the background noise augmenter once (outside the loop)\n",
        "bg_noise = muda.deformers.BackgroundNoise(n_samples=1, files=background_noise, weight_min=0.1, weight_max=0.5)\n",
        "\n",
        "for subdir, _, files in os.walk(input_root):\n",
        "    for file in files:\n",
        "        if file.endswith('.wav'):\n",
        "            input_path = os.path.join(subdir, file)\n",
        "            rel_path = os.path.relpath(subdir, input_root)\n",
        "            output_dir = os.path.join(output_root, rel_path)\n",
        "            os.makedirs(output_dir, exist_ok=True)\n",
        "            output_path = os.path.join(output_dir, file)\n",
        "\n",
        "            # === Load audio ===\n",
        "            y, sr = librosa.load(input_path, sr=None)\n",
        "\n",
        "            # Create an empty JAMS object (needed by muda)\n",
        "            jam = jams.JAMS()\n",
        "            jam.file_metadata.duration = librosa.get_duration(y=y, sr=sr)\n",
        "            jam = muda.jam_pack(jam, _audio=dict(y=y, sr=sr))\n",
        "\n",
        "            # === Apply Background Noise ===\n",
        "            for _, jam_out in enumerate(bg_noise.transform(jam)):\n",
        "                muda.save(output_path, output_path.replace(\".wav\", \".jams\"), jam_out)"
      ]
    }
  ],
  "metadata": {
    "colab": {
      "provenance": []
    },
    "kernelspec": {
      "display_name": "311",
      "language": "python",
      "name": "python3"
    },
    "language_info": {
      "codemirror_mode": {
        "name": "ipython",
        "version": 3
      },
      "file_extension": ".py",
      "mimetype": "text/x-python",
      "name": "python",
      "nbconvert_exporter": "python",
      "pygments_lexer": "ipython3",
      "version": "3.11.9"
    }
  },
  "nbformat": 4,
  "nbformat_minor": 5
}
