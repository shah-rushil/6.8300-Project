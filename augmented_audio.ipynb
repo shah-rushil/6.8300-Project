{
 "cells": [
  {
   "cell_type": "code",
   "execution_count": 10,
   "id": "031e409b",
   "metadata": {},
   "outputs": [
    {
     "ename": "AttributeError",
     "evalue": "'numpy.ndarray' object has no attribute '_audio'",
     "output_type": "error",
     "traceback": [
      "\u001b[31m---------------------------------------------------------------------------\u001b[39m",
      "\u001b[31mAttributeError\u001b[39m                            Traceback (most recent call last)",
      "\u001b[36mCell\u001b[39m\u001b[36m \u001b[39m\u001b[32mIn[10]\u001b[39m\u001b[32m, line 24\u001b[39m\n\u001b[32m     21\u001b[39m y, sr = sf.read(input_path)\n\u001b[32m     23\u001b[39m \u001b[38;5;66;03m# Apply DRC directly to the waveform\u001b[39;00m\n\u001b[32m---> \u001b[39m\u001b[32m24\u001b[39m y_aug = \u001b[43mdrc\u001b[49m\u001b[43m.\u001b[49m\u001b[43maudio\u001b[49m\u001b[43m(\u001b[49m\u001b[43my\u001b[49m\u001b[43m,\u001b[49m\u001b[43m \u001b[49m\u001b[43msr\u001b[49m\u001b[43m)\u001b[49m\n\u001b[32m     26\u001b[39m \u001b[38;5;66;03m# Save the augmented audio\u001b[39;00m\n\u001b[32m     27\u001b[39m sf.write(output_path, y_aug, sr)\n",
      "\u001b[36mFile \u001b[39m\u001b[32mc:\\Users\\ahe42\\MIT Dropbox\\Alex He\\My Stuff\\MIT\\Sophomore Spring\\6.8300\\6.8300-Project\\311\\Lib\\site-packages\\muda\\deformers\\sox.py:147\u001b[39m, in \u001b[36mDynamicRangeCompression.audio\u001b[39m\u001b[34m(mudabox, state)\u001b[39m\n\u001b[32m    144\u001b[39m \u001b[38;5;129m@staticmethod\u001b[39m\n\u001b[32m    145\u001b[39m \u001b[38;5;28;01mdef\u001b[39;00m\u001b[38;5;250m \u001b[39m\u001b[34maudio\u001b[39m(mudabox, state):\n\u001b[32m    146\u001b[39m     mudabox._audio[\u001b[33m\"\u001b[39m\u001b[33my\u001b[39m\u001b[33m\"\u001b[39m] = drc(\n\u001b[32m--> \u001b[39m\u001b[32m147\u001b[39m         \u001b[43mmudabox\u001b[49m\u001b[43m.\u001b[49m\u001b[43m_audio\u001b[49m[\u001b[33m\"\u001b[39m\u001b[33my\u001b[39m\u001b[33m\"\u001b[39m], mudabox._audio[\u001b[33m\"\u001b[39m\u001b[33msr\u001b[39m\u001b[33m\"\u001b[39m], state[\u001b[33m\"\u001b[39m\u001b[33mpreset\u001b[39m\u001b[33m\"\u001b[39m]\n\u001b[32m    148\u001b[39m     )\n",
      "\u001b[31mAttributeError\u001b[39m: 'numpy.ndarray' object has no attribute '_audio'"
     ]
    }
   ],
   "source": [
    "import os\n",
    "import soundfile as sf\n",
    "import muda\n",
    "\n",
    "input_root = 'data'\n",
    "output_root = os.path.join('augmented_data', 'drc')\n",
    "\n",
    "# Initialize the DRC augmenter\n",
    "drc = muda.deformers.DynamicRangeCompression(preset=\"music standard\")\n",
    "\n",
    "for subdir, _, files in os.walk(input_root):\n",
    "    for file in files:\n",
    "        if file.endswith('.wav'):\n",
    "            input_path = os.path.join(subdir, file)\n",
    "            rel_path = os.path.relpath(subdir, input_root)\n",
    "            output_dir = os.path.join(output_root, rel_path)\n",
    "            os.makedirs(output_dir, exist_ok=True)\n",
    "            output_path = os.path.join(output_dir, file)\n",
    "\n",
    "            # Load audio\n",
    "            y, sr = sf.read(input_path)\n",
    "\n",
    "            # Apply DRC directly to the waveform\n",
    "            y_aug = drc.audio(y, sr)\n",
    "\n",
    "            # Save the augmented audio\n",
    "            sf.write(output_path, y_aug, sr)\n",
    "            print(f\"Processed {input_path} -> {output_path}\")\n"
   ]
  }
 ],
 "metadata": {
  "kernelspec": {
   "display_name": "311",
   "language": "python",
   "name": "python3"
  },
  "language_info": {
   "codemirror_mode": {
    "name": "ipython",
    "version": 3
   },
   "file_extension": ".py",
   "mimetype": "text/x-python",
   "name": "python",
   "nbconvert_exporter": "python",
   "pygments_lexer": "ipython3",
   "version": "3.11.9"
  }
 },
 "nbformat": 4,
 "nbformat_minor": 5
}
