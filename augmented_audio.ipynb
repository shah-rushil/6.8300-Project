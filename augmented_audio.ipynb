{
 "cells": [
  {
   "cell_type": "code",
   "execution_count": 1,
   "id": "031e409b",
   "metadata": {},
   "outputs": [
    {
     "name": "stdout",
     "output_type": "stream",
     "text": [
      "None\n",
      "None\n"
     ]
    },
    {
     "ename": "CalledProcessError",
     "evalue": "Command '['sox', 'C:\\\\Users\\\\ahe42\\\\AppData\\\\Local\\\\Temp\\\\tmpu1vxf9m6.wav', 'C:\\\\Users\\\\ahe42\\\\AppData\\\\Local\\\\Temp\\\\tmpnoc6muw_.wav', '-q', 'compand', '0.1,0.3', '-90,-90,-70,-58,-55,-43,-31,-31,-21,-21,0,-20', '0', '0', '0.1']' returned non-zero exit status 1.",
     "output_type": "error",
     "traceback": [
      "\u001b[31m---------------------------------------------------------------------------\u001b[39m",
      "\u001b[31mCalledProcessError\u001b[39m                        Traceback (most recent call last)",
      "\u001b[36mCell\u001b[39m\u001b[36m \u001b[39m\u001b[32mIn[1]\u001b[39m\u001b[32m, line 30\u001b[39m\n\u001b[32m     27\u001b[39m jam = muda.jam_pack(jam, _audio=\u001b[38;5;28mdict\u001b[39m(y=y, sr=sr))\n\u001b[32m     29\u001b[39m \u001b[38;5;66;03m# === Apply DRC ===\u001b[39;00m\n\u001b[32m---> \u001b[39m\u001b[32m30\u001b[39m \u001b[43m\u001b[49m\u001b[38;5;28;43;01mfor\u001b[39;49;00m\u001b[43m \u001b[49m\u001b[43mjam_out\u001b[49m\u001b[43m \u001b[49m\u001b[38;5;129;43;01min\u001b[39;49;00m\u001b[43m \u001b[49m\u001b[43mdrc\u001b[49m\u001b[43m.\u001b[49m\u001b[43mtransform\u001b[49m\u001b[43m(\u001b[49m\u001b[43mjam\u001b[49m\u001b[43m)\u001b[49m\u001b[43m:\u001b[49m\n\u001b[32m     31\u001b[39m \u001b[43m    \u001b[49m\u001b[43mmuda\u001b[49m\u001b[43m.\u001b[49m\u001b[43msave\u001b[49m\u001b[43m(\u001b[49m\u001b[43moutput_path\u001b[49m\u001b[43m,\u001b[49m\u001b[43m \u001b[49m\u001b[43moutput_path\u001b[49m\u001b[43m.\u001b[49m\u001b[43mreplace\u001b[49m\u001b[43m(\u001b[49m\u001b[33;43m\"\u001b[39;49m\u001b[33;43m.wav\u001b[39;49m\u001b[33;43m\"\u001b[39;49m\u001b[43m,\u001b[49m\u001b[43m \u001b[49m\u001b[33;43m\"\u001b[39;49m\u001b[33;43m.jams\u001b[39;49m\u001b[33;43m\"\u001b[39;49m\u001b[43m,\u001b[49m\u001b[43m \u001b[49m\u001b[43mjam_out\u001b[49m\u001b[43m)\u001b[49m\u001b[43m)\u001b[49m\n",
      "\u001b[36mFile \u001b[39m\u001b[32mc:\\Users\\ahe42\\MIT Dropbox\\Alex He\\My Stuff\\MIT\\Sophomore Spring\\6.8300\\6.8300-Project\\311\\Lib\\site-packages\\muda\\base.py:159\u001b[39m, in \u001b[36mBaseTransformer.transform\u001b[39m\u001b[34m(self, jam)\u001b[39m\n\u001b[32m    141\u001b[39m \u001b[38;5;250m\u001b[39m\u001b[33;03m\"\"\"Iterative transformation generator\u001b[39;00m\n\u001b[32m    142\u001b[39m \n\u001b[32m    143\u001b[39m \u001b[33;03mApplies the deformation to an input jams object.\u001b[39;00m\n\u001b[32m   (...)\u001b[39m\u001b[32m    155\u001b[39m \u001b[33;03m...     process(jam_out)\u001b[39;00m\n\u001b[32m    156\u001b[39m \u001b[33;03m\"\"\"\u001b[39;00m\n\u001b[32m    158\u001b[39m \u001b[38;5;28;01mfor\u001b[39;00m state \u001b[38;5;129;01min\u001b[39;00m \u001b[38;5;28mself\u001b[39m.states(jam):\n\u001b[32m--> \u001b[39m\u001b[32m159\u001b[39m     \u001b[38;5;28;01myield\u001b[39;00m \u001b[38;5;28;43mself\u001b[39;49m\u001b[43m.\u001b[49m\u001b[43m_transform\u001b[49m\u001b[43m(\u001b[49m\u001b[43mjam\u001b[49m\u001b[43m,\u001b[49m\u001b[43m \u001b[49m\u001b[43mstate\u001b[49m\u001b[43m)\u001b[49m\n",
      "\u001b[36mFile \u001b[39m\u001b[32mc:\\Users\\ahe42\\MIT Dropbox\\Alex He\\My Stuff\\MIT\\Sophomore Spring\\6.8300\\6.8300-Project\\311\\Lib\\site-packages\\muda\\base.py:123\u001b[39m, in \u001b[36mBaseTransformer._transform\u001b[39m\u001b[34m(self, jam, state)\u001b[39m\n\u001b[32m    118\u001b[39m jam_w.sandbox.muda[\u001b[33m\"\u001b[39m\u001b[33mhistory\u001b[39m\u001b[33m\"\u001b[39m].append(\n\u001b[32m    119\u001b[39m     {\u001b[33m\"\u001b[39m\u001b[33mtransformer\u001b[39m\u001b[33m\"\u001b[39m: \u001b[38;5;28mself\u001b[39m.__serialize__, \u001b[33m\"\u001b[39m\u001b[33mstate\u001b[39m\u001b[33m\"\u001b[39m: state}\n\u001b[32m    120\u001b[39m )\n\u001b[32m    122\u001b[39m \u001b[38;5;28;01mtry\u001b[39;00m:\n\u001b[32m--> \u001b[39m\u001b[32m123\u001b[39m     \u001b[38;5;28;43mself\u001b[39;49m\u001b[43m.\u001b[49m\u001b[43maudio\u001b[49m\u001b[43m(\u001b[49m\u001b[43mjam_w\u001b[49m\u001b[43m.\u001b[49m\u001b[43msandbox\u001b[49m\u001b[43m.\u001b[49m\u001b[43mmuda\u001b[49m\u001b[43m,\u001b[49m\u001b[43m \u001b[49m\u001b[43mstate\u001b[49m\u001b[43m)\u001b[49m\n\u001b[32m    124\u001b[39m \u001b[38;5;28;01mexcept\u001b[39;00m \u001b[38;5;167;01mNotImplementedError\u001b[39;00m:\n\u001b[32m    125\u001b[39m     \u001b[38;5;28;01mpass\u001b[39;00m\n",
      "\u001b[36mFile \u001b[39m\u001b[32mc:\\Users\\ahe42\\MIT Dropbox\\Alex He\\My Stuff\\MIT\\Sophomore Spring\\6.8300\\6.8300-Project\\311\\Lib\\site-packages\\muda\\deformers\\sox.py:146\u001b[39m, in \u001b[36mDynamicRangeCompression.audio\u001b[39m\u001b[34m(mudabox, state)\u001b[39m\n\u001b[32m    144\u001b[39m \u001b[38;5;129m@staticmethod\u001b[39m\n\u001b[32m    145\u001b[39m \u001b[38;5;28;01mdef\u001b[39;00m\u001b[38;5;250m \u001b[39m\u001b[34maudio\u001b[39m(mudabox, state):\n\u001b[32m--> \u001b[39m\u001b[32m146\u001b[39m     mudabox._audio[\u001b[33m\"\u001b[39m\u001b[33my\u001b[39m\u001b[33m\"\u001b[39m] = \u001b[43mdrc\u001b[49m\u001b[43m(\u001b[49m\n\u001b[32m    147\u001b[39m \u001b[43m        \u001b[49m\u001b[43mmudabox\u001b[49m\u001b[43m.\u001b[49m\u001b[43m_audio\u001b[49m\u001b[43m[\u001b[49m\u001b[33;43m\"\u001b[39;49m\u001b[33;43my\u001b[39;49m\u001b[33;43m\"\u001b[39;49m\u001b[43m]\u001b[49m\u001b[43m,\u001b[49m\u001b[43m \u001b[49m\u001b[43mmudabox\u001b[49m\u001b[43m.\u001b[49m\u001b[43m_audio\u001b[49m\u001b[43m[\u001b[49m\u001b[33;43m\"\u001b[39;49m\u001b[33;43msr\u001b[39;49m\u001b[33;43m\"\u001b[39;49m\u001b[43m]\u001b[49m\u001b[43m,\u001b[49m\u001b[43m \u001b[49m\u001b[43mstate\u001b[49m\u001b[43m[\u001b[49m\u001b[33;43m\"\u001b[39;49m\u001b[33;43mpreset\u001b[39;49m\u001b[33;43m\"\u001b[39;49m\u001b[43m]\u001b[49m\n\u001b[32m    148\u001b[39m \u001b[43m    \u001b[49m\u001b[43m)\u001b[49m\n",
      "\u001b[36mFile \u001b[39m\u001b[32mc:\\Users\\ahe42\\MIT Dropbox\\Alex He\\My Stuff\\MIT\\Sophomore Spring\\6.8300\\6.8300-Project\\311\\Lib\\site-packages\\muda\\deformers\\sox.py:93\u001b[39m, in \u001b[36mdrc\u001b[39m\u001b[34m(y, sr, preset)\u001b[39m\n\u001b[32m     73\u001b[39m \u001b[38;5;28;01mdef\u001b[39;00m\u001b[38;5;250m \u001b[39m\u001b[34mdrc\u001b[39m(y, sr, preset):\n\u001b[32m     74\u001b[39m \u001b[38;5;250m    \u001b[39m\u001b[33;03m\"\"\"Apply a preset DRC\u001b[39;00m\n\u001b[32m     75\u001b[39m \n\u001b[32m     76\u001b[39m \u001b[33;03m    Parameters\u001b[39;00m\n\u001b[32m   (...)\u001b[39m\u001b[32m     90\u001b[39m \u001b[33;03m        `y` after applying preset DRC\u001b[39;00m\n\u001b[32m     91\u001b[39m \u001b[33;03m    \"\"\"\u001b[39;00m\n\u001b[32m---> \u001b[39m\u001b[32m93\u001b[39m     \u001b[38;5;28;01mreturn\u001b[39;00m \u001b[43m__sox\u001b[49m\u001b[43m(\u001b[49m\u001b[43my\u001b[49m\u001b[43m,\u001b[49m\u001b[43m \u001b[49m\u001b[43msr\u001b[49m\u001b[43m,\u001b[49m\u001b[43m \u001b[49m\u001b[33;43m\"\u001b[39;49m\u001b[33;43mcompand\u001b[39;49m\u001b[33;43m\"\u001b[39;49m\u001b[43m,\u001b[49m\u001b[43m \u001b[49m\u001b[43m*\u001b[49m\u001b[43mPRESETS\u001b[49m\u001b[43m[\u001b[49m\u001b[43mpreset\u001b[49m\u001b[43m]\u001b[49m\u001b[43m)\u001b[49m\n",
      "\u001b[36mFile \u001b[39m\u001b[32mc:\\Users\\ahe42\\MIT Dropbox\\Alex He\\My Stuff\\MIT\\Sophomore Spring\\6.8300\\6.8300-Project\\311\\Lib\\site-packages\\muda\\deformers\\sox.py:59\u001b[39m, in \u001b[36m__sox\u001b[39m\u001b[34m(y, sr, *args)\u001b[39m\n\u001b[32m     56\u001b[39m arguments = [\u001b[33m\"\u001b[39m\u001b[33msox\u001b[39m\u001b[33m\"\u001b[39m, infile, outfile, \u001b[33m\"\u001b[39m\u001b[33m-q\u001b[39m\u001b[33m\"\u001b[39m]\n\u001b[32m     57\u001b[39m arguments.extend(args)\n\u001b[32m---> \u001b[39m\u001b[32m59\u001b[39m \u001b[43msubprocess\u001b[49m\u001b[43m.\u001b[49m\u001b[43mcheck_call\u001b[49m\u001b[43m(\u001b[49m\u001b[43marguments\u001b[49m\u001b[43m)\u001b[49m\n\u001b[32m     61\u001b[39m y_out, sr = psf.read(outfile)\n\u001b[32m     62\u001b[39m y_out = y_out.T\n",
      "\u001b[36mFile \u001b[39m\u001b[32m~\\AppData\\Local\\Programs\\Python\\Python311\\Lib\\subprocess.py:414\u001b[39m, in \u001b[36mcheck_call\u001b[39m\u001b[34m(*popenargs, **kwargs)\u001b[39m\n\u001b[32m    404\u001b[39m \u001b[38;5;28;01mdef\u001b[39;00m\u001b[38;5;250m \u001b[39m\u001b[34mcheck_call\u001b[39m(*popenargs, **kwargs):\n\u001b[32m    405\u001b[39m \u001b[38;5;250m    \u001b[39m\u001b[33;03m\"\"\"Run command with arguments.  Wait for command to complete.  If\u001b[39;00m\n\u001b[32m    406\u001b[39m \u001b[33;03m    the exit code was zero then return, otherwise raise\u001b[39;00m\n\u001b[32m    407\u001b[39m \u001b[33;03m    CalledProcessError.  The CalledProcessError object will have the\u001b[39;00m\n\u001b[32m   (...)\u001b[39m\u001b[32m    412\u001b[39m \u001b[33;03m    check_call([\"ls\", \"-l\"])\u001b[39;00m\n\u001b[32m    413\u001b[39m \u001b[33;03m    \"\"\"\u001b[39;00m\n\u001b[32m--> \u001b[39m\u001b[32m414\u001b[39m     retcode = \u001b[43mcall\u001b[49m\u001b[43m(\u001b[49m\u001b[43m*\u001b[49m\u001b[43mpopenargs\u001b[49m\u001b[43m,\u001b[49m\u001b[43m \u001b[49m\u001b[43m*\u001b[49m\u001b[43m*\u001b[49m\u001b[43mkwargs\u001b[49m\u001b[43m)\u001b[49m\n\u001b[32m    415\u001b[39m     \u001b[38;5;28;01mif\u001b[39;00m retcode:\n\u001b[32m    416\u001b[39m         cmd = kwargs.get(\u001b[33m\"\u001b[39m\u001b[33margs\u001b[39m\u001b[33m\"\u001b[39m)\n",
      "\u001b[36mFile \u001b[39m\u001b[32m~\\AppData\\Local\\Programs\\Python\\Python311\\Lib\\subprocess.py:396\u001b[39m, in \u001b[36mcall\u001b[39m\u001b[34m(timeout, *popenargs, **kwargs)\u001b[39m\n\u001b[32m    394\u001b[39m         \u001b[38;5;28mprint\u001b[39m(stdout)\n\u001b[32m    395\u001b[39m         \u001b[38;5;28mprint\u001b[39m(stderr)\n\u001b[32m--> \u001b[39m\u001b[32m396\u001b[39m         \u001b[38;5;28;01mraise\u001b[39;00m CalledProcessError(p.returncode, p.args, stderr)\n\u001b[32m    397\u001b[39m     \u001b[38;5;66;03m# return p.wait(timeout=timeout)\u001b[39;00m\n\u001b[32m    398\u001b[39m \u001b[38;5;28;01mexcept\u001b[39;00m:  \u001b[38;5;66;03m# Including KeyboardInterrupt, wait handled that.\u001b[39;00m\n",
      "\u001b[31mCalledProcessError\u001b[39m: Command '['sox', 'C:\\\\Users\\\\ahe42\\\\AppData\\\\Local\\\\Temp\\\\tmpu1vxf9m6.wav', 'C:\\\\Users\\\\ahe42\\\\AppData\\\\Local\\\\Temp\\\\tmpnoc6muw_.wav', '-q', 'compand', '0.1,0.3', '-90,-90,-70,-58,-55,-43,-31,-31,-21,-21,0,-20', '0', '0', '0.1']' returned non-zero exit status 1."
     ]
    }
   ],
   "source": [
    "import os\n",
    "import librosa\n",
    "import jams\n",
    "import muda\n",
    "\n",
    "input_root = 'clipped_data'\n",
    "output_root = os.path.join('augmented_data', 'drc')\n",
    "\n",
    "# Initialize the DRC augmenter once (outside the loop)\n",
    "drc = muda.deformers.DynamicRangeCompression(preset=\"music standard\")\n",
    "\n",
    "for subdir, _, files in os.walk(input_root):\n",
    "    for file in files:\n",
    "        if file.endswith('.wav'):\n",
    "            input_path = os.path.join(subdir, file)\n",
    "            rel_path = os.path.relpath(subdir, input_root)\n",
    "            output_dir = os.path.join(output_root, rel_path)\n",
    "            os.makedirs(output_dir, exist_ok=True)\n",
    "            output_path = os.path.join(output_dir, file)\n",
    "\n",
    "            # === Load audio ===\n",
    "            y, sr = librosa.load(input_path, sr=None)\n",
    "\n",
    "            # Create an empty JAMS object (needed by muda)\n",
    "            jam = jams.JAMS()\n",
    "            jam.file_metadata.duration = librosa.get_duration(y=y, sr=sr)\n",
    "            jam = muda.jam_pack(jam, _audio=dict(y=y, sr=sr))\n",
    "\n",
    "            # === Apply DRC ===\n",
    "            for jam_out in drc.transform(jam):\n",
    "                muda.save(output_path, output_path.replace(\".wav\", \".jams\", jam_out))"
   ]
  }
 ],
 "metadata": {
  "kernelspec": {
   "display_name": "311",
   "language": "python",
   "name": "python3"
  },
  "language_info": {
   "codemirror_mode": {
    "name": "ipython",
    "version": 3
   },
   "file_extension": ".py",
   "mimetype": "text/x-python",
   "name": "python",
   "nbconvert_exporter": "python",
   "pygments_lexer": "ipython3",
   "version": "3.11.9"
  }
 },
 "nbformat": 4,
 "nbformat_minor": 5
}
