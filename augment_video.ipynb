{
 "cells": [
  {
   "cell_type": "code",
   "execution_count": 7,
   "id": "31557de3",
   "metadata": {},
   "outputs": [
    {
     "name": "stdout",
     "output_type": "stream",
     "text": [
      "Requirement already satisfied: numpy in ./.venv/lib/python3.12/site-packages (2.2.5)\n",
      "Note: you may need to restart the kernel to use updated packages.\n",
      "Requirement already satisfied: Pillow in ./.venv/lib/python3.12/site-packages (11.2.1)\n",
      "Note: you may need to restart the kernel to use updated packages.\n",
      "Collecting opencv-python\n",
      "  Using cached opencv_python-4.11.0.86-cp37-abi3-macosx_13_0_arm64.whl.metadata (20 kB)\n",
      "Requirement already satisfied: numpy>=1.21.2 in ./.venv/lib/python3.12/site-packages (from opencv-python) (2.2.5)\n",
      "Using cached opencv_python-4.11.0.86-cp37-abi3-macosx_13_0_arm64.whl (37.3 MB)\n",
      "Installing collected packages: opencv-python\n",
      "Successfully installed opencv-python-4.11.0.86\n",
      "Note: you may need to restart the kernel to use updated packages.\n"
     ]
    }
   ],
   "source": [
    "%pip install numpy\n",
    "%pip install Pillow\n",
    "%pip install opencv-python"
   ]
  },
  {
   "cell_type": "code",
   "execution_count": 8,
   "id": "80e0961d",
   "metadata": {},
   "outputs": [],
   "source": [
    "import random\n",
    "import numpy as np\n",
    "from PIL import Image, ImageEnhance\n",
    "import cv2\n",
    "\n",
    "def random_crop(img: Image.Image, crop_size: tuple[int, int]) -> Image.Image:\n",
    "    \"\"\"Randomly crop the given PIL image to crop_size (width, height).\"\"\"\n",
    "    w, h = img.size\n",
    "    crop_w, crop_h = crop_size\n",
    "    left = random.randint(0, w - crop_w)\n",
    "    top = random.randint(0, h - crop_h)\n",
    "    return img.crop((left, top, left + crop_w, top + crop_h))\n",
    "\n",
    "def color_jitter_manual(\n",
    "    img: Image.Image,\n",
    "    brightness: float = 0.4,\n",
    "    contrast: float = 0.4,\n",
    "    saturation: float = 0.4\n",
    ") -> Image.Image:\n",
    "    \"\"\"Apply manual color jitter using PIL's ImageEnhance.\"\"\"\n",
    "    # Brightness\n",
    "    factor = 1 + random.uniform(-brightness, brightness)\n",
    "    img = ImageEnhance.Brightness(img).enhance(factor)\n",
    "    # Contrast\n",
    "    factor = 1 + random.uniform(-contrast, contrast)\n",
    "    img = ImageEnhance.Contrast(img).enhance(factor)\n",
    "    # Saturation\n",
    "    factor = 1 + random.uniform(-saturation, saturation)\n",
    "    img = ImageEnhance.Color(img).enhance(factor)\n",
    "    return img\n",
    "\n",
    "def crop_color_jitter(\n",
    "    img: Image.Image,\n",
    "    crop_size: tuple[int, int] = (224, 224)\n",
    ") -> Image.Image:\n",
    "    \"\"\"Random crop followed by color jitter.\"\"\"\n",
    "    cropped = random_crop(img, crop_size)\n",
    "    return color_jitter_manual(cropped)\n",
    "\n",
    "def sobel_filter(img: Image.Image) -> Image.Image:\n",
    "    \"\"\"Convert to grayscale and apply Sobel edge detection.\"\"\"\n",
    "    img_np = np.array(img.convert('RGB'))\n",
    "    gray = cv2.cvtColor(img_np, cv2.COLOR_RGB2GRAY)\n",
    "    sobelx = cv2.Sobel(gray, cv2.CV_64F, 1, 0, ksize=3)\n",
    "    sobely = cv2.Sobel(gray, cv2.CV_64F, 0, 1, ksize=3)\n",
    "    sobel = np.sqrt(sobelx**2 + sobely**2)\n",
    "    sobel = (sobel / sobel.max() * 255).astype(np.uint8)\n",
    "    return Image.fromarray(sobel)\n",
    "\n",
    "def crop_sobel(\n",
    "    img: Image.Image,\n",
    "    crop_size: tuple[int, int] = (224, 224)\n",
    ") -> Image.Image:\n",
    "    \"\"\"Random crop followed by Sobel edge detection.\"\"\"\n",
    "    cropped = random_crop(img, crop_size)\n",
    "    return sobel_filter(cropped)"
   ]
  },
  {
   "cell_type": "markdown",
   "id": "7875e9b0",
   "metadata": {},
   "source": [
    "Perform the augmentations"
   ]
  },
  {
   "cell_type": "code",
   "execution_count": null,
   "id": "3fe57473",
   "metadata": {},
   "outputs": [],
   "source": [
    "img = Image.open(input_path).convert('RGB')\n",
    "aug1 = crop_color_jitter(img, crop_size)\n",
    "aug2 = crop_sobel(img, crop_size)\n",
    "aug1.save(\"crop_color.jpg\")\n",
    "aug2.save(\"crop_sobel.jpg\")\n",
    "print(\"Saved augmentations as 'crop_color.jpg' and 'crop_sobel.jpg'\")\n"
   ]
  }
 ],
 "metadata": {
  "kernelspec": {
   "display_name": ".venv",
   "language": "python",
   "name": "python3"
  },
  "language_info": {
   "codemirror_mode": {
    "name": "ipython",
    "version": 3
   },
   "file_extension": ".py",
   "mimetype": "text/x-python",
   "name": "python",
   "nbconvert_exporter": "python",
   "pygments_lexer": "ipython3",
   "version": "3.12.8"
  }
 },
 "nbformat": 4,
 "nbformat_minor": 5
}
